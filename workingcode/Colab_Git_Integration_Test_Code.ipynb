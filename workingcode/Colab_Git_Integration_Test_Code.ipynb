{
  "nbformat": 4,
  "nbformat_minor": 0,
  "metadata": {
    "colab": {
      "provenance": [],
      "authorship_tag": "ABX9TyOwe8RAcG3HfUDBOVn7kDOb",
      "include_colab_link": true
    },
    "kernelspec": {
      "name": "python3",
      "display_name": "Python 3"
    },
    "language_info": {
      "name": "python"
    }
  },
  "cells": [
    {
      "cell_type": "markdown",
      "metadata": {
        "id": "view-in-github",
        "colab_type": "text"
      },
      "source": [
        "<a href=\"https://colab.research.google.com/github/uddipan89/learning-websockets/blob/main/workingcode/Colab_Git_Integration_Test_Code.ipynb\" target=\"_parent\"><img src=\"https://colab.research.google.com/assets/colab-badge.svg\" alt=\"Open In Colab\"/></a>"
      ]
    },
    {
      "cell_type": "code",
      "execution_count": 1,
      "metadata": {
        "colab": {
          "base_uri": "https://localhost:8080/"
        },
        "id": "QgrXwMRonilX",
        "outputId": "5cad76ad-80cb-4d2c-c1cc-db9a53bdf447"
      },
      "outputs": [
        {
          "output_type": "stream",
          "name": "stdout",
          "text": [
            "This is a template to integrate colab with github\n"
          ]
        }
      ],
      "source": [
        "print('This is a template to integrate colab with github')"
      ]
    },
    {
      "cell_type": "code",
      "source": [
        "'''\n",
        "Refer to this page to understand using GIT and Colab together\n",
        "https://gemini.google.com/app/0ff7fec0afd5f8dc?hl=en-IN\n",
        "'''\n",
        "print()"
      ],
      "metadata": {
        "id": "GBThyCdjnruO",
        "colab": {
          "base_uri": "https://localhost:8080/"
        },
        "outputId": "6731c3dc-741b-4a65-cf71-2091e8c16a2f"
      },
      "execution_count": 2,
      "outputs": [
        {
          "output_type": "stream",
          "name": "stdout",
          "text": [
            "\n"
          ]
        }
      ]
    },
    {
      "cell_type": "code",
      "source": [
        "!pip install websockets\n",
        "!pip install asyncio"
      ],
      "metadata": {
        "colab": {
          "base_uri": "https://localhost:8080/"
        },
        "id": "t3kPwvETsnZa",
        "outputId": "bcbcbe98-0113-4efa-c2c6-24339e39dc79"
      },
      "execution_count": 3,
      "outputs": [
        {
          "output_type": "stream",
          "name": "stdout",
          "text": [
            "Requirement already satisfied: websockets in /usr/local/lib/python3.11/dist-packages (15.0.1)\n",
            "Requirement already satisfied: asyncio in /usr/local/lib/python3.11/dist-packages (3.4.3)\n"
          ]
        }
      ]
    },
    {
      "cell_type": "markdown",
      "source": [
        "# prompt: Write a mardown as Server Code\n",
        "\n",
        "\n",
        "\n",
        "\n"
      ],
      "metadata": {
        "id": "ervZfCmxw_Eb"
      }
    },
    {
      "cell_type": "code",
      "source": [
        "import asyncio\n",
        "import websockets\n"
      ],
      "metadata": {
        "id": "IzVrwQ0f2d7M"
      },
      "execution_count": 6,
      "outputs": []
    },
    {
      "cell_type": "code",
      "source": [
        "async def echo(websocket):\n",
        "    async for message in websocket:\n",
        "        print(f\"Server received: {message}\")\n",
        "        await websocket.send(f\"Server says: {message}\")\n",
        "\n",
        "async def main():\n",
        "    async with websockets.serve(echo, \"localhost\", 8765):\n",
        "        print(\"WebSocket server started at ws://localhost:8765\")\n",
        "        await asyncio.Future()  # Keep the server running"
      ],
      "metadata": {
        "id": "YfruEhZp2gWL"
      },
      "execution_count": 7,
      "outputs": []
    },
    {
      "cell_type": "code",
      "source": [
        "if __name__ == \"__main__\":\n",
        "    asyncio.run(main())"
      ],
      "metadata": {
        "colab": {
          "base_uri": "https://localhost:8080/",
          "height": 280
        },
        "id": "q85jGiF5zYuU",
        "outputId": "6ea562df-84b1-4e82-cd23-61e86d011e5d"
      },
      "execution_count": 8,
      "outputs": [
        {
          "output_type": "error",
          "ename": "RuntimeError",
          "evalue": "asyncio.run() cannot be called from a running event loop",
          "traceback": [
            "\u001b[0;31m---------------------------------------------------------------------------\u001b[0m",
            "\u001b[0;31mRuntimeError\u001b[0m                              Traceback (most recent call last)",
            "\u001b[0;32m<ipython-input-8-a71bf4eda60e>\u001b[0m in \u001b[0;36m<cell line: 0>\u001b[0;34m()\u001b[0m\n\u001b[1;32m      1\u001b[0m \u001b[0;32mif\u001b[0m \u001b[0m__name__\u001b[0m \u001b[0;34m==\u001b[0m \u001b[0;34m\"__main__\"\u001b[0m\u001b[0;34m:\u001b[0m\u001b[0;34m\u001b[0m\u001b[0;34m\u001b[0m\u001b[0m\n\u001b[0;32m----> 2\u001b[0;31m     \u001b[0masyncio\u001b[0m\u001b[0;34m.\u001b[0m\u001b[0mrun\u001b[0m\u001b[0;34m(\u001b[0m\u001b[0mmain\u001b[0m\u001b[0;34m(\u001b[0m\u001b[0;34m)\u001b[0m\u001b[0;34m)\u001b[0m\u001b[0;34m\u001b[0m\u001b[0;34m\u001b[0m\u001b[0m\n\u001b[0m",
            "\u001b[0;32m/usr/lib/python3.11/asyncio/runners.py\u001b[0m in \u001b[0;36mrun\u001b[0;34m(main, debug)\u001b[0m\n\u001b[1;32m    184\u001b[0m     \u001b[0;32mif\u001b[0m \u001b[0mevents\u001b[0m\u001b[0;34m.\u001b[0m\u001b[0m_get_running_loop\u001b[0m\u001b[0;34m(\u001b[0m\u001b[0;34m)\u001b[0m \u001b[0;32mis\u001b[0m \u001b[0;32mnot\u001b[0m \u001b[0;32mNone\u001b[0m\u001b[0;34m:\u001b[0m\u001b[0;34m\u001b[0m\u001b[0;34m\u001b[0m\u001b[0m\n\u001b[1;32m    185\u001b[0m         \u001b[0;31m# fail fast with short traceback\u001b[0m\u001b[0;34m\u001b[0m\u001b[0;34m\u001b[0m\u001b[0m\n\u001b[0;32m--> 186\u001b[0;31m         raise RuntimeError(\n\u001b[0m\u001b[1;32m    187\u001b[0m             \"asyncio.run() cannot be called from a running event loop\")\n\u001b[1;32m    188\u001b[0m \u001b[0;34m\u001b[0m\u001b[0m\n",
            "\u001b[0;31mRuntimeError\u001b[0m: asyncio.run() cannot be called from a running event loop"
          ]
        }
      ]
    },
    {
      "cell_type": "code",
      "source": [
        "async def hello():\n",
        "    uri = \"ws://localhost:8765\"\n",
        "    async with websockets.connect(uri) as websocket:\n",
        "        name = input(\"What's your name? \")\n",
        "        await websocket.send(name)\n",
        "        print(f\">>> {name}\")\n",
        "\n",
        "        greeting = await websocket.recv()\n",
        "        print(f\"<<< {greeting}\")\n",
        "\n",
        "if __name__ == \"__main__\":\n",
        "    asyncio.run(hello())"
      ],
      "metadata": {
        "id": "23-Yo41DzwUa",
        "outputId": "67984c91-223a-4e5b-9e9f-8ce504371798",
        "colab": {
          "base_uri": "https://localhost:8080/",
          "height": 297
        }
      },
      "execution_count": 9,
      "outputs": [
        {
          "output_type": "error",
          "ename": "RuntimeError",
          "evalue": "asyncio.run() cannot be called from a running event loop",
          "traceback": [
            "\u001b[0;31m---------------------------------------------------------------------------\u001b[0m",
            "\u001b[0;31mRuntimeError\u001b[0m                              Traceback (most recent call last)",
            "\u001b[0;32m<ipython-input-9-026e7a1bf120>\u001b[0m in \u001b[0;36m<cell line: 0>\u001b[0;34m()\u001b[0m\n\u001b[1;32m     10\u001b[0m \u001b[0;34m\u001b[0m\u001b[0m\n\u001b[1;32m     11\u001b[0m \u001b[0;32mif\u001b[0m \u001b[0m__name__\u001b[0m \u001b[0;34m==\u001b[0m \u001b[0;34m\"__main__\"\u001b[0m\u001b[0;34m:\u001b[0m\u001b[0;34m\u001b[0m\u001b[0;34m\u001b[0m\u001b[0m\n\u001b[0;32m---> 12\u001b[0;31m     \u001b[0masyncio\u001b[0m\u001b[0;34m.\u001b[0m\u001b[0mrun\u001b[0m\u001b[0;34m(\u001b[0m\u001b[0mhello\u001b[0m\u001b[0;34m(\u001b[0m\u001b[0;34m)\u001b[0m\u001b[0;34m)\u001b[0m\u001b[0;34m\u001b[0m\u001b[0;34m\u001b[0m\u001b[0m\n\u001b[0m",
            "\u001b[0;32m/usr/lib/python3.11/asyncio/runners.py\u001b[0m in \u001b[0;36mrun\u001b[0;34m(main, debug)\u001b[0m\n\u001b[1;32m    184\u001b[0m     \u001b[0;32mif\u001b[0m \u001b[0mevents\u001b[0m\u001b[0;34m.\u001b[0m\u001b[0m_get_running_loop\u001b[0m\u001b[0;34m(\u001b[0m\u001b[0;34m)\u001b[0m \u001b[0;32mis\u001b[0m \u001b[0;32mnot\u001b[0m \u001b[0;32mNone\u001b[0m\u001b[0;34m:\u001b[0m\u001b[0;34m\u001b[0m\u001b[0;34m\u001b[0m\u001b[0m\n\u001b[1;32m    185\u001b[0m         \u001b[0;31m# fail fast with short traceback\u001b[0m\u001b[0;34m\u001b[0m\u001b[0;34m\u001b[0m\u001b[0m\n\u001b[0;32m--> 186\u001b[0;31m         raise RuntimeError(\n\u001b[0m\u001b[1;32m    187\u001b[0m             \"asyncio.run() cannot be called from a running event loop\")\n\u001b[1;32m    188\u001b[0m \u001b[0;34m\u001b[0m\u001b[0m\n",
            "\u001b[0;31mRuntimeError\u001b[0m: asyncio.run() cannot be called from a running event loop"
          ]
        }
      ]
    },
    {
      "cell_type": "markdown",
      "source": [
        "The error message \"RuntimeError: asyncio.run() cannot be called from a running event loop\" indicates that you are trying to start a new asyncio event loop using asyncio.run() within an environment where an event loop is already running. Jupyter notebooks and Google Colab, in particular, run an event loop in the background to manage asynchronous tasks. When you execute asyncio.run(main()), it attempts to create a new nested event loop, which is not allowed and results in the RuntimeError."
      ],
      "metadata": {
        "id": "h_ig9hFx497v"
      }
    },
    {
      "cell_type": "code",
      "source": [
        "async def echo(websocket):\n",
        "    async for message in websocket:\n",
        "        print(f\"Server received: {message}\")\n",
        "        await websocket.send(f\"Server says: {message}\")\n",
        "\n",
        "async def main():\n",
        "    async with websockets.serve(echo, \"localhost\", 8765):\n",
        "        print(\"WebSocket server started at ws://localhost:8765\")\n",
        "        # Instead of asyncio.Future(), use asyncio.Event to control the server's lifetime.\n",
        "        event = asyncio.Event()\n",
        "        await event.wait()"
      ],
      "metadata": {
        "id": "kTsOhPpe5GvC"
      },
      "execution_count": 10,
      "outputs": []
    },
    {
      "cell_type": "code",
      "source": [
        "# Run the server using asyncio.create_task instead of asyncio.run\n",
        "if __name__ == \"__main__\":\n",
        "    try:\n",
        "        # Create a task for the server\n",
        "        server_task = asyncio.create_task(main())\n",
        "        # Keep the event loop running (you might need to adjust this part)\n",
        "        # This line is a placeholder and you might need a different way to keep\n",
        "        # the event loop running in your specific environment.\n",
        "        # For example, in a notebook, the event loop might already be running,\n",
        "        # and you might need to use asyncio.get_event_loop().run_forever()\n",
        "        # with some modifications.\n",
        "        # In a script, you could use asyncio.get_event_loop().run_forever()\n",
        "        # directly.\n",
        "        # In Colab, you might need to use a different approach.\n",
        "\n",
        "        # If in a script or notebook outside Colab\n",
        "        # asyncio.get_event_loop().run_forever()\n",
        "        print(\"WebSocket server started. Press Ctrl+C to stop.\")\n",
        "        # In a jupyter notebook, asyncio.get_event_loop().run_forever() will block execution so you will never see the print output. You can experiment with a different approach like adding a time delay, or using asyncio.run(), but know that these have their own quirks and may not work well with websockets.\n",
        "        # If using asyncio.run() approach, remember to replace the main() function call with server_task, and it has to be done within the get_event_loop() block.\n",
        "        # Consider removing the asyncio event management logic and simply starting the loop with the run_forever() function\n",
        "        # This approach might work without needing the asyncio.Event within the main() function.\n",
        "        # Research more approaches to managing the event loop within Jupyter Notebooks / Colab environments or refer the websockets documentation further.\n",
        "        # For more advanced usage, consider exploring Jupyter notebook widgets and IPython.display.\n",
        "        import time\n",
        "        while True:\n",
        "            time.sleep(1)\n",
        "\n",
        "    except KeyboardInterrupt:\n",
        "        print(\"Stopping server...\")\n",
        "        # Stop the server when KeyboardInterrupt is received (Ctrl+C)\n",
        "        server_task.cancel()"
      ],
      "metadata": {
        "id": "SRHvHFXq5bbj",
        "outputId": "b8cdd17e-518a-4493-f2b5-4ed2eedefbe3",
        "colab": {
          "base_uri": "https://localhost:8080/"
        }
      },
      "execution_count": 11,
      "outputs": [
        {
          "output_type": "stream",
          "name": "stdout",
          "text": [
            "WebSocket server started. Press Ctrl+C to stop.\n",
            "Stopping server...\n"
          ]
        }
      ]
    },
    {
      "cell_type": "code",
      "source": [
        "async def echo(websocket):\n",
        "    async for message in websocket:\n",
        "        print(f\"Server received: {message}\")\n",
        "        await websocket.send(f\"Server says: {message}\")\n",
        "\n",
        "async def hello():\n",
        "    uri = \"ws://localhost:8765\"\n",
        "    async with websockets.connect(uri) as websocket:\n",
        "        name = input(\"What's your name? \")\n",
        "        await websocket.send(name)\n",
        "        print(f\">>> {name}\")\n",
        "\n",
        "        greeting = await websocket.recv()\n",
        "        print(f\"<<< {greeting}\")\n",
        "\n",
        "async def main():\n",
        "    async with websockets.serve(echo, \"localhost\", 8765):\n",
        "        print(\"WebSocket server started at ws://localhost:8765\")\n",
        "        # Run the client\n",
        "        await hello()\n",
        "        # Keep the server running\n",
        "        await asyncio.Future()\n",
        "\n",
        "if __name__ == \"__main__\":\n",
        "    asyncio.run(main()) # This is fine since it's the entry point"
      ],
      "metadata": {
        "id": "R_0YhgIu5cC4",
        "outputId": "ec13398c-0dec-4eb5-864b-672875a4f925",
        "colab": {
          "base_uri": "https://localhost:8080/",
          "height": 297
        }
      },
      "execution_count": 12,
      "outputs": [
        {
          "output_type": "error",
          "ename": "RuntimeError",
          "evalue": "asyncio.run() cannot be called from a running event loop",
          "traceback": [
            "\u001b[0;31m---------------------------------------------------------------------------\u001b[0m",
            "\u001b[0;31mRuntimeError\u001b[0m                              Traceback (most recent call last)",
            "\u001b[0;32m<ipython-input-12-aa37e7bef70c>\u001b[0m in \u001b[0;36m<cell line: 0>\u001b[0;34m()\u001b[0m\n\u001b[1;32m     23\u001b[0m \u001b[0;34m\u001b[0m\u001b[0m\n\u001b[1;32m     24\u001b[0m \u001b[0;32mif\u001b[0m \u001b[0m__name__\u001b[0m \u001b[0;34m==\u001b[0m \u001b[0;34m\"__main__\"\u001b[0m\u001b[0;34m:\u001b[0m\u001b[0;34m\u001b[0m\u001b[0;34m\u001b[0m\u001b[0m\n\u001b[0;32m---> 25\u001b[0;31m     \u001b[0masyncio\u001b[0m\u001b[0;34m.\u001b[0m\u001b[0mrun\u001b[0m\u001b[0;34m(\u001b[0m\u001b[0mmain\u001b[0m\u001b[0;34m(\u001b[0m\u001b[0;34m)\u001b[0m\u001b[0;34m)\u001b[0m \u001b[0;31m# This is fine since it's the entry point\u001b[0m\u001b[0;34m\u001b[0m\u001b[0;34m\u001b[0m\u001b[0m\n\u001b[0m",
            "\u001b[0;32m/usr/lib/python3.11/asyncio/runners.py\u001b[0m in \u001b[0;36mrun\u001b[0;34m(main, debug)\u001b[0m\n\u001b[1;32m    184\u001b[0m     \u001b[0;32mif\u001b[0m \u001b[0mevents\u001b[0m\u001b[0;34m.\u001b[0m\u001b[0m_get_running_loop\u001b[0m\u001b[0;34m(\u001b[0m\u001b[0;34m)\u001b[0m \u001b[0;32mis\u001b[0m \u001b[0;32mnot\u001b[0m \u001b[0;32mNone\u001b[0m\u001b[0;34m:\u001b[0m\u001b[0;34m\u001b[0m\u001b[0;34m\u001b[0m\u001b[0m\n\u001b[1;32m    185\u001b[0m         \u001b[0;31m# fail fast with short traceback\u001b[0m\u001b[0;34m\u001b[0m\u001b[0;34m\u001b[0m\u001b[0m\n\u001b[0;32m--> 186\u001b[0;31m         raise RuntimeError(\n\u001b[0m\u001b[1;32m    187\u001b[0m             \"asyncio.run() cannot be called from a running event loop\")\n\u001b[1;32m    188\u001b[0m \u001b[0;34m\u001b[0m\u001b[0m\n",
            "\u001b[0;31mRuntimeError\u001b[0m: asyncio.run() cannot be called from a running event loop"
          ]
        }
      ]
    },
    {
      "cell_type": "code",
      "source": [
        "import asyncio\n",
        "import websockets\n",
        "\n",
        "async def echo(websocket):\n",
        "    async for message in websocket:\n",
        "        print(f\"Server received: {message}\")\n",
        "        await websocket.send(f\"Server says: {message}\")\n",
        "\n",
        "async def hello():\n",
        "    uri = \"ws://localhost:8765\"\n",
        "    async with websockets.connect(uri) as websocket:\n",
        "        name = input(\"What's your name? \")\n",
        "        await websocket.send(name)\n",
        "        print(f\">>> {name}\")\n",
        "\n",
        "        greeting = await websocket.recv()\n",
        "        print(f\"<<< {greeting}\")\n",
        "\n",
        "async def main():\n",
        "    async with websockets.serve(echo, \"localhost\", 8765):\n",
        "        print(\"WebSocket server started at ws://localhost:8765\")\n",
        "        # Run the client in a separate task\n",
        "        client_task = asyncio.create_task(hello())\n",
        "        # Keep the server running until the client task completes\n",
        "        await client_task\n",
        "        # Optional: add a delay or another method to keep the server running longer if needed\n",
        "\n",
        "\n",
        "if __name__ == \"__main__\":\n",
        "    asyncio.run(main()) # This is the main entry point, so asyncio.run is acceptable here"
      ],
      "metadata": {
        "id": "Nb4TCXdf5nh5",
        "outputId": "9bba43b4-1741-4705-dd4d-eb6873e0a3aa",
        "colab": {
          "base_uri": "https://localhost:8080/",
          "height": 297
        }
      },
      "execution_count": 13,
      "outputs": [
        {
          "output_type": "error",
          "ename": "RuntimeError",
          "evalue": "asyncio.run() cannot be called from a running event loop",
          "traceback": [
            "\u001b[0;31m---------------------------------------------------------------------------\u001b[0m",
            "\u001b[0;31mRuntimeError\u001b[0m                              Traceback (most recent call last)",
            "\u001b[0;32m<ipython-input-13-c09aa4274081>\u001b[0m in \u001b[0;36m<cell line: 0>\u001b[0;34m()\u001b[0m\n\u001b[1;32m     28\u001b[0m \u001b[0;34m\u001b[0m\u001b[0m\n\u001b[1;32m     29\u001b[0m \u001b[0;32mif\u001b[0m \u001b[0m__name__\u001b[0m \u001b[0;34m==\u001b[0m \u001b[0;34m\"__main__\"\u001b[0m\u001b[0;34m:\u001b[0m\u001b[0;34m\u001b[0m\u001b[0;34m\u001b[0m\u001b[0m\n\u001b[0;32m---> 30\u001b[0;31m     \u001b[0masyncio\u001b[0m\u001b[0;34m.\u001b[0m\u001b[0mrun\u001b[0m\u001b[0;34m(\u001b[0m\u001b[0mmain\u001b[0m\u001b[0;34m(\u001b[0m\u001b[0;34m)\u001b[0m\u001b[0;34m)\u001b[0m \u001b[0;31m# This is the main entry point, so asyncio.run is acceptable here\u001b[0m\u001b[0;34m\u001b[0m\u001b[0;34m\u001b[0m\u001b[0m\n\u001b[0m",
            "\u001b[0;32m/usr/lib/python3.11/asyncio/runners.py\u001b[0m in \u001b[0;36mrun\u001b[0;34m(main, debug)\u001b[0m\n\u001b[1;32m    184\u001b[0m     \u001b[0;32mif\u001b[0m \u001b[0mevents\u001b[0m\u001b[0;34m.\u001b[0m\u001b[0m_get_running_loop\u001b[0m\u001b[0;34m(\u001b[0m\u001b[0;34m)\u001b[0m \u001b[0;32mis\u001b[0m \u001b[0;32mnot\u001b[0m \u001b[0;32mNone\u001b[0m\u001b[0;34m:\u001b[0m\u001b[0;34m\u001b[0m\u001b[0;34m\u001b[0m\u001b[0m\n\u001b[1;32m    185\u001b[0m         \u001b[0;31m# fail fast with short traceback\u001b[0m\u001b[0;34m\u001b[0m\u001b[0;34m\u001b[0m\u001b[0m\n\u001b[0;32m--> 186\u001b[0;31m         raise RuntimeError(\n\u001b[0m\u001b[1;32m    187\u001b[0m             \"asyncio.run() cannot be called from a running event loop\")\n\u001b[1;32m    188\u001b[0m \u001b[0;34m\u001b[0m\u001b[0m\n",
            "\u001b[0;31mRuntimeError\u001b[0m: asyncio.run() cannot be called from a running event loop"
          ]
        }
      ]
    },
    {
      "cell_type": "code",
      "source": [],
      "metadata": {
        "id": "BKDRU-BJ6Ro2"
      },
      "execution_count": null,
      "outputs": []
    }
  ]
}