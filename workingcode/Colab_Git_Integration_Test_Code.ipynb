{
  "nbformat": 4,
  "nbformat_minor": 0,
  "metadata": {
    "colab": {
      "provenance": [],
      "authorship_tag": "ABX9TyPu2HtGnGVlQkl4lbjbBt56",
      "include_colab_link": true
    },
    "kernelspec": {
      "name": "python3",
      "display_name": "Python 3"
    },
    "language_info": {
      "name": "python"
    }
  },
  "cells": [
    {
      "cell_type": "markdown",
      "metadata": {
        "id": "view-in-github",
        "colab_type": "text"
      },
      "source": [
        "<a href=\"https://colab.research.google.com/github/uddipan89/learning-websockets/blob/main/workingcode/Colab_Git_Integration_Test_Code.ipynb\" target=\"_parent\"><img src=\"https://colab.research.google.com/assets/colab-badge.svg\" alt=\"Open In Colab\"/></a>"
      ]
    },
    {
      "cell_type": "code",
      "execution_count": null,
      "metadata": {
        "colab": {
          "base_uri": "https://localhost:8080/"
        },
        "id": "QgrXwMRonilX",
        "outputId": "ee8d7b70-d0de-4400-9fd9-0bec0bed4f0e"
      },
      "outputs": [
        {
          "output_type": "stream",
          "name": "stdout",
          "text": [
            "This is a template to integrate colab with github\n"
          ]
        }
      ],
      "source": [
        "print('This is a template to integrate colab with github')"
      ]
    },
    {
      "cell_type": "code",
      "source": [
        "'''\n",
        "Refer to this page to understand using GIT and Colab together\n",
        "https://gemini.google.com/app/0ff7fec0afd5f8dc?hl=en-IN\n",
        "'''\n",
        "print()"
      ],
      "metadata": {
        "id": "GBThyCdjnruO",
        "colab": {
          "base_uri": "https://localhost:8080/"
        },
        "outputId": "a5fab039-cf30-4088-bc0f-b4a4b3dffbb0"
      },
      "execution_count": 2,
      "outputs": [
        {
          "output_type": "stream",
          "name": "stdout",
          "text": [
            "\n"
          ]
        }
      ]
    },
    {
      "cell_type": "code",
      "source": [],
      "metadata": {
        "id": "t3kPwvETsnZa"
      },
      "execution_count": null,
      "outputs": []
    }
  ]
}