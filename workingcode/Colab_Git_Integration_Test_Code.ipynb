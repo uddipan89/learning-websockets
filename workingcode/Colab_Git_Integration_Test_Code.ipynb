{
  "nbformat": 4,
  "nbformat_minor": 0,
  "metadata": {
    "colab": {
      "provenance": [],
      "authorship_tag": "ABX9TyMqoE71FD64+QvPv7FVRglE",
      "include_colab_link": true
    },
    "kernelspec": {
      "name": "python3",
      "display_name": "Python 3"
    },
    "language_info": {
      "name": "python"
    }
  },
  "cells": [
    {
      "cell_type": "markdown",
      "metadata": {
        "id": "view-in-github",
        "colab_type": "text"
      },
      "source": [
        "<a href=\"https://colab.research.google.com/github/uddipan89/learning-websockets/blob/main/workingcode/Colab_Git_Integration_Test_Code.ipynb\" target=\"_parent\"><img src=\"https://colab.research.google.com/assets/colab-badge.svg\" alt=\"Open In Colab\"/></a>"
      ]
    },
    {
      "cell_type": "code",
      "execution_count": 1,
      "metadata": {
        "colab": {
          "base_uri": "https://localhost:8080/"
        },
        "id": "QgrXwMRonilX",
        "outputId": "ee8d7b70-d0de-4400-9fd9-0bec0bed4f0e"
      },
      "outputs": [
        {
          "output_type": "stream",
          "name": "stdout",
          "text": [
            "This is a template to integrate colab with github\n"
          ]
        }
      ],
      "source": [
        "print('This is a template to integrate colab with github')"
      ]
    },
    {
      "cell_type": "code",
      "source": [],
      "metadata": {
        "id": "GBThyCdjnruO"
      },
      "execution_count": null,
      "outputs": []
    }
  ]
}